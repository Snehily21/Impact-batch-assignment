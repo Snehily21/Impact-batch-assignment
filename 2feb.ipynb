{
 "cells": [
  {
   "cell_type": "code",
   "execution_count": 6,
   "id": "8fc4e108-9993-4804-a6a3-47ce2dcf1150",
   "metadata": {},
   "outputs": [
    {
     "name": "stdout",
     "output_type": "stream",
     "text": [
      "apple\n",
      "banana\n",
      "cherry\n",
      "1\n",
      "2\n",
      "3\n",
      "4\n",
      "5\n",
      "6\n",
      "7\n",
      "8\n",
      "9\n",
      "10\n"
     ]
    }
   ],
   "source": [
    "\n",
    "\"\"\"A for loop is used to iterate over a sequence (such as a list, tuple, or string) or other iterable object, \n",
    "executing a block of code for each item in the sequence.\n",
    "\n",
    "Example: Printing the elements of a list using a for loop:\"\"\"\n",
    "\n",
    "\n",
    "fruits = ['apple', 'banana', 'cherry']\n",
    "for fruit in fruits:\n",
    "    print(fruit)\n",
    "    \n",
    "\n",
    "\"\"\"A while loop is used to repeatedly execute a block of code as long as a specified condition is true.\n",
    "\n",
    "Example: Printing the numbers from 1 to 10 using a while loop:\"\"\"\n",
    "\n",
    "\n",
    "n = 1\n",
    "while n <= 10:\n",
    "    print(n)\n",
    "    n += 1"
   ]
  },
  {
   "cell_type": "code",
   "execution_count": 5,
   "id": "dc6958f4-ec8a-4b65-bb5b-79ed9e100381",
   "metadata": {},
   "outputs": [
    {
     "name": "stdin",
     "output_type": "stream",
     "text": [
      "Enter the number 4\n"
     ]
    },
    {
     "name": "stdout",
     "output_type": "stream",
     "text": [
      "10\n",
      "24\n"
     ]
    }
   ],
   "source": [
    "n=int(input(\"Enter the number\"))\n",
    "Sum = 0\n",
    "product=1\n",
    "i=1\n",
    "\n",
    "while(i<=n):\n",
    "    Sum=Sum + i\n",
    "    product=product*i\n",
    "    i+=1\n",
    "    \n",
    "print(Sum)\n",
    "print(product)\n"
   ]
  },
  {
   "cell_type": "code",
   "execution_count": 19,
   "id": "64a159c1-0cc4-4019-a671-ce8062090434",
   "metadata": {},
   "outputs": [
    {
     "name": "stdin",
     "output_type": "stream",
     "text": [
      "Enter the units u have consumed 310\n"
     ]
    },
    {
     "name": "stdout",
     "output_type": "stream",
     "text": [
      "2250\n"
     ]
    }
   ],
   "source": [
    "n=int(input(\"Enter the units u have consumed\"))#n is the number of unit\n",
    "bill=0\n",
    "i=1\n",
    "\n",
    "while(i<=n):\n",
    "    if i<=100:\n",
    "        bill=4.5*i\n",
    "    elif i>100 and i<=200:\n",
    "        \n",
    "        bill=450+6*(i-100)\n",
    "    elif i>200 and i<=300:\n",
    "        \n",
    "        bill=1050+10*(i-200)\n",
    "    else:\n",
    "        bill=2050+20*(i-300)\n",
    "    i+=1\n",
    "print(bill)\n",
    "\n",
    "\n",
    "\n",
    "    \n",
    "    \n",
    "    "
   ]
  },
  {
   "cell_type": "code",
   "execution_count": 46,
   "id": "bc97d3d6-31ca-4c16-9b67-62bd4fdb758a",
   "metadata": {},
   "outputs": [
    {
     "name": "stdout",
     "output_type": "stream",
     "text": [
      "[10, 20, 30, 40, 50, 60, 70, 80, 90]\n"
     ]
    }
   ],
   "source": [
    "l1=[]\n",
    "l2=[]\n",
    "n=100\n",
    "i=1\n",
    "\n",
    "while(i<=100):\n",
    "    l1.append(i)\n",
    "    i+=1\n",
    "\n",
    "for i in l1:\n",
    "    if i*i*i % 4==0 or i*i*i % 5==0:\n",
    "        l2.append(i)\n",
    "print(l2)\n",
    "\n",
    "# alternate method\n",
    "\n",
    "# for i in range(1,n):\n",
    "#     l1.append(i)\n",
    "#     if i*i*i%4==0 or i*i*i%5==0:\n",
    "#         l2.append(i)\n",
    "# print(l2)\n",
    "\n"
   ]
  },
  {
   "cell_type": "code",
   "execution_count": 56,
   "id": "063e3712-1edf-45ad-ba0b-08b48fbe3cff",
   "metadata": {},
   "outputs": [
    {
     "name": "stdout",
     "output_type": "stream",
     "text": [
      "I\n",
      "i\n",
      "i\n",
      "11\n"
     ]
    }
   ],
   "source": [
    "string= \"I want to become data scientist\"\n",
    "count=0\n",
    "\n",
    "string\n",
    "for i in string:\n",
    "    if i==\"A\" or i==\"a\":\n",
    "     \n",
    "        count+=1\n",
    "    elif i==\"E\"or i==\"e\":\n",
    "     \n",
    "        count+=1\n",
    "    elif i==\"I\" or i==\"i\":\n",
    "        print(i)\n",
    "        count+=1\n",
    "    elif i==\"O\" or i==\"o\":\n",
    "       \n",
    "        count+=1\n",
    "    elif i==\"U\" or i==\"i\":\n",
    "        \n",
    "        count+=1\n",
    "print(count)\n",
    "        "
   ]
  },
  {
   "cell_type": "code",
   "execution_count": null,
   "id": "b74c3d96-bfe7-4e6b-8d87-a8861142cc27",
   "metadata": {},
   "outputs": [],
   "source": []
  }
 ],
 "metadata": {
  "kernelspec": {
   "display_name": "Python 3 (ipykernel)",
   "language": "python",
   "name": "python3"
  },
  "language_info": {
   "codemirror_mode": {
    "name": "ipython",
    "version": 3
   },
   "file_extension": ".py",
   "mimetype": "text/x-python",
   "name": "python",
   "nbconvert_exporter": "python",
   "pygments_lexer": "ipython3",
   "version": "3.10.6"
  }
 },
 "nbformat": 4,
 "nbformat_minor": 5
}
