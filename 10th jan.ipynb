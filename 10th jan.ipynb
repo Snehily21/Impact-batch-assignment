{
 "cells": [
  {
   "cell_type": "code",
   "execution_count": null,
   "id": "bce78068-b666-4eb0-b930-e96276564f7e",
   "metadata": {},
   "outputs": [],
   "source": [
    "# ANSWER_1\n",
    "\n",
    "\"\"\"In Python, the open() function is used to open a file. It takes two arguments: the path of the file to be opened,\n",
    "and the mode in which to open the file.\n",
    "\n",
    "The different modes of opening a file are:\n",
    "\n",
    "'r' - Read mode: This is the default mode when the open() function is called. In this mode, \n",
    "the file is opened for reading, and if the file does not exist, a FileNotFoundError is raised. This mode is used to read the contents of a file.\n",
    "\n",
    "'w' - Write mode: In this mode, the file is opened for writing. If the file does not exist, it is created.\n",
    "If the file already exists, its contents are truncated. This mode is used to write data to a file.\n",
    "\n",
    "'a' - Append mode: In this mode, the file is opened for writing, but the contents are not truncated. \n",
    "If the file does not exist, it is created. This mode is used to add data to an existing file.\n",
    "\n",
    "'x' - Exclusive mode: In this mode, the file is opened for exclusive creation, which means that if the file already exists,\n",
    "a FileExistsError is raised.\n",
    "\n",
    "'b' - Binary mode: In this mode, the file is opened in binary mode. This is useful when working with binary data, such as images or audio files.\n",
    "\n",
    "'t' - Text mode: This is the default mode when the b flag is not present. In this mode, the file is opened in text mode,\n",
    "which means that data is read and written as Unicode strings.\n",
    "\n",
    "The mode can be specified as a string that contains one or more of the above characters. \n",
    "For example, 'rb' is binary read mode, 'w+' is write mode with reading, etc.\n",
    "\n",
    "It's important to note that when you're done working with a file, you should always close it\n",
    "using the close() method, which is called on the file object returned by open(). This ensures that any changes you made to the \n",
    "file are saved and that system resources are freed up.\"\"\"\n",
    "\n",
    "\n",
    "\n",
    "\n"
   ]
  },
  {
   "cell_type": "code",
   "execution_count": null,
   "id": "da5a4a8e-a150-457d-b301-fc7e7b83cf67",
   "metadata": {},
   "outputs": [],
   "source": [
    "# ANSWER_2\n",
    "\n",
    "\"\"\"The close() function is used to close a file after it has been opened using the open() function.\n",
    "It is important to close a file after you are done working with it, as it ensures that any data that was written to\n",
    "the file is saved and that system resources are freed up.\n",
    "\n",
    "When a file is opened, the operating system creates a data structure to keep track of the file \n",
    "and its associated data. This data structure is limited in number, so if you don't close a file after you are done with it,\n",
    "you may run out of these data structures and won't be able to open new files.\n",
    "\n",
    "Additionally, if you don't close a file, any data that you wrote to the file may not be saved. \n",
    "This is because the operating system may delay writing the data to the file until the file is closed.\n",
    "If your program crashes or is terminated unexpectedly before the file is closed, the data may be lost.\n",
    "\n",
    "Closing a file also releases any locks that were placed on the file when it was opened, which allows other programs to access the file.\n",
    "\n",
    "In Python, you can close a file by calling the close() method on the file object returned by the open() function. Alternatively, \n",
    "you can use the with statement to automatically close the file when the block of code inside the with statement is exited. For example:\"\"\"\n",
    "\n",
    "with open(\"myfile.txt\", \"r\") as f:\n",
    "    # code to read from the file\n",
    "# the file is automatically closed when the \"with\" block is exited\n"
   ]
  },
  {
   "cell_type": "code",
   "execution_count": 1,
   "id": "14189f80-dd1b-4393-becb-0b49418c08d2",
   "metadata": {},
   "outputs": [
    {
     "name": "stdout",
     "output_type": "stream",
     "text": [
      "I want to become a Data Scientist\n"
     ]
    }
   ],
   "source": [
    "# ANSWER_3\n",
    "# Open the file for writing\n",
    "file = open(\"my_file.txt\", \"w\")\n",
    "\n",
    "# Write the string to the file\n",
    "file.write(\"I want to become a Data Scientist\")\n",
    "\n",
    "# Close the file\n",
    "file.close()\n",
    "\n",
    "# Open the file for reading\n",
    "file = open(\"my_file.txt\", \"r\")\n",
    "\n",
    "# Read the contents of the file and print them\n",
    "contents = file.read()\n",
    "print(contents)\n",
    "\n",
    "# Close the file\n",
    "file.close()\n",
    "\n"
   ]
  },
  {
   "cell_type": "code",
   "execution_count": null,
   "id": "e7edab1f-f259-44fe-916f-935d78f0eaff",
   "metadata": {},
   "outputs": [],
   "source": []
  }
 ],
 "metadata": {
  "kernelspec": {
   "display_name": "Python 3 (ipykernel)",
   "language": "python",
   "name": "python3"
  },
  "language_info": {
   "codemirror_mode": {
    "name": "ipython",
    "version": 3
   },
   "file_extension": ".py",
   "mimetype": "text/x-python",
   "name": "python",
   "nbconvert_exporter": "python",
   "pygments_lexer": "ipython3",
   "version": "3.10.6"
  }
 },
 "nbformat": 4,
 "nbformat_minor": 5
}
