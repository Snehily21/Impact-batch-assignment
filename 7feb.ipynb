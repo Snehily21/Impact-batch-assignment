{
 "cells": [
  {
   "cell_type": "code",
   "execution_count": 2,
   "id": "081df5c2-f325-4551-a249-993579e7a8db",
   "metadata": {},
   "outputs": [
    {
     "name": "stdin",
     "output_type": "stream",
     "text": [
      "enter the password AAAlll1!@$\n"
     ]
    },
    {
     "data": {
      "text/plain": [
       "'password is valid'"
      ]
     },
     "execution_count": 2,
     "metadata": {},
     "output_type": "execute_result"
    }
   ],
   "source": [
    "password=str(input(\"enter the password\"))\n",
    "def password_check(password):\n",
    "    upper_count=0\n",
    "    for letters in password:\n",
    "        if letters.isupper():\n",
    "            upper_count+=1\n",
    "    if upper_count<2:\n",
    "        return \"invalid password\", \"upper count\",upper_count\n",
    "    lower_count=0\n",
    "    for letters in password:\n",
    "        if letters.islower():\n",
    "            lower_count+=1\n",
    "    if lower_count<2:\n",
    "        return \"invalid password\",\"lower count\", lower_count\n",
    "    number_count=0\n",
    "    for letters in password:\n",
    "        if letters.isdigit():\n",
    "            number_count+=1\n",
    "    if number_count<1:\n",
    "        return \"invalid password\"\"number count\",number_count\n",
    "    special_characters = set('!@#$%^&*(),.?\":{}|<>')\n",
    "    special_count=0\n",
    "    for letters in password:\n",
    "        if letters in special_characters:\n",
    "            special_count+=1\n",
    "    if special_count<=2:\n",
    "        return \"invalid password\", \"special count\",special_count\n",
    "    if len(password)!=10:\n",
    "        return \"invalid password\"\n",
    "    \n",
    "    return \"password is valid\"\n",
    "\n",
    "    \n",
    "password_check(password)\n",
    "            \n",
    "            \n",
    "        "
   ]
  },
  {
   "cell_type": "code",
   "execution_count": 1,
   "id": "c90ad429-e322-4cc9-bf78-b507d1d2852a",
   "metadata": {},
   "outputs": [
    {
     "name": "stdout",
     "output_type": "stream",
     "text": [
      "True\n",
      "False\n",
      "True\n",
      "False\n",
      "[80, 99, 1000]\n",
      "['grapes', 'mango', 'orange']\n",
      "[0, 1, 4, 9, 16, 25, 36, 49, 64, 81, 100]\n",
      "[0, 1, 8, 27, 64, 125, 216, 343, 512, 729, 1000]\n",
      "[0, 2, 4, 6, 8, 10]\n",
      "[1, 3, 5, 7, 9]\n",
      "Positive integers: [1, 2, 3, 4, 5, 6]\n",
      "Negative integers: [-1, -2, -3, -4, -5]\n"
     ]
    }
   ],
   "source": [
    "\"\"\"Check if the string starts with a particular letter\"\"\"\n",
    "starts_with = lambda string, letter: string.startswith(letter)\n",
    "print(starts_with(\"Hello\", \"H\"))  # Output: True\n",
    "print(starts_with(\"Hello\", \"h\"))  # Output: False\n",
    "\n",
    "\"\"\"Check if the string is numeric\"\"\"\n",
    "numeric= lambda string: string.isdigit()\n",
    "print(numeric(\"1233\"))\n",
    "print(numeric(\"data scientist\"))\n",
    "\n",
    "\"\"\"Sort a list of tuples having fruit names and their quantity. [(\"mango\",99),(\"orange\",80), (\"grapes\", 1000)]\"\"\"\n",
    "li=[(\"mango\",99),(\"orange\",80), (\"grapes\", 1000)]\n",
    "amount=sorted([ i[1] for i in li])\n",
    "fruit_name=sorted([i[0] for i in li])\n",
    "print(amount)\n",
    "print(fruit_name)\n",
    "\n",
    "\"\"\"Find the squares of numbers from 1 to 10\"\"\"\n",
    "List=[ i for i in range(0,11)]\n",
    "square= list(map(lambda x: x**2,List))\n",
    "print(square)\n",
    "\n",
    "\"\"\"Find the cube root of numbers from 1 to 10\"\"\"\n",
    "\n",
    "cube=list(map(lambda x: x**3, List))\n",
    "print(cube)\n",
    "\n",
    "\"\"\"Check if a given number is even\"\"\"\n",
    "\n",
    "ifeven=list(filter(lambda x: x%2==0,List))\n",
    "print(ifeven)\n",
    "\n",
    "\"\"\"Filter odd numbers from the given list.\n",
    "[1,2,3,4,5,6,7,8,9,10\"]\"\"\"\n",
    "\n",
    "ifodd=list(filter(lambda x: x%2!=0,List))\n",
    "print(ifodd)\n",
    "\n",
    "\"\"\"Sort a list of integers into positive and negative integers lists.\n",
    "[1,2,3,4,5,6,-1,-2,-3,-4,-5,0]\"\"\"\n",
    "\n",
    "def sort_integers(input_list):\n",
    "    positive_integers = []\n",
    "    negative_integers = []\n",
    "    \n",
    "    for num in input_list:\n",
    "        if num > 0:\n",
    "            positive_integers.append(num)\n",
    "        elif num < 0:\n",
    "            negative_integers.append(num)\n",
    "    \n",
    "    return positive_integers, negative_integers\n",
    "\n",
    "input_list = [1, 2, 3, 4, 5, 6, -1, -2, -3, -4, -5, 0]\n",
    "positive_integers, negative_integers = sort_integers(input_list)\n",
    "\n",
    "print(\"Positive integers:\", positive_integers)\n",
    "print(\"Negative integers:\", negative_integers)\n",
    "\n",
    "\n",
    "\n"
   ]
  },
  {
   "cell_type": "code",
   "execution_count": null,
   "id": "a936f459-b5ad-4466-a344-cab8e2648b38",
   "metadata": {},
   "outputs": [],
   "source": []
  },
  {
   "cell_type": "code",
   "execution_count": null,
   "id": "b321d312-53b8-4889-9df6-69c60a5b2af3",
   "metadata": {},
   "outputs": [],
   "source": []
  }
 ],
 "metadata": {
  "kernelspec": {
   "display_name": "Python 3 (ipykernel)",
   "language": "python",
   "name": "python3"
  },
  "language_info": {
   "codemirror_mode": {
    "name": "ipython",
    "version": 3
   },
   "file_extension": ".py",
   "mimetype": "text/x-python",
   "name": "python",
   "nbconvert_exporter": "python",
   "pygments_lexer": "ipython3",
   "version": "3.10.6"
  }
 },
 "nbformat": 4,
 "nbformat_minor": 5
}
