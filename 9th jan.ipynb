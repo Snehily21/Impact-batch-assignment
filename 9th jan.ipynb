{
 "cells": [
  {
   "cell_type": "code",
   "execution_count": null,
   "id": "ca9e9ef9-53e1-4e49-92ed-0622ed137047",
   "metadata": {},
   "outputs": [],
   "source": [
    "# ANSWER_1\n",
    "class Vehicle:\n",
    "    def __init__(self, name_of_vehicle, max_speed, average_of_vehicle):\n",
    "        self.name_of_vehicle = name_of_vehicle\n",
    "        self.max_speed = max_speed\n",
    "        self.average_of_vehicle = average_of_vehicle\n"
   ]
  },
  {
   "cell_type": "code",
   "execution_count": 91,
   "id": "f096e783-acfb-428c-9097-acf562a0fa3c",
   "metadata": {},
   "outputs": [],
   "source": [
    "# ANSWER_3\n",
    "class Car(Vehicle):\n",
    "    def __init__(self,name_of_vehicle,max_speed,average_of_vehicle):\n",
    "        super().__init__(name_of_vehicle,max_speed,average_of_vehicle)\n",
    "        \n",
    "    def seating(self,capacity):\n",
    "        self.capacity=capacity\n",
    "        return self.name_of_vehicle,self.capacity\n"
   ]
  },
  {
   "cell_type": "code",
   "execution_count": 92,
   "id": "016c4a44-1db4-4867-9a68-fe6162772a00",
   "metadata": {},
   "outputs": [],
   "source": [
    "aa=Car(\"lamborghini\",210,2)"
   ]
  },
  {
   "cell_type": "code",
   "execution_count": 94,
   "id": "9d66123e-7fdc-443b-9a82-bf2c3bb007ff",
   "metadata": {},
   "outputs": [
    {
     "data": {
      "text/plain": [
       "('lamborghini', 2)"
      ]
     },
     "execution_count": 94,
     "metadata": {},
     "output_type": "execute_result"
    }
   ],
   "source": [
    "aa.seating(2)"
   ]
  },
  {
   "cell_type": "code",
   "execution_count": 95,
   "id": "cae91321-bb00-47de-b251-e674a1c7686c",
   "metadata": {},
   "outputs": [
    {
     "name": "stdout",
     "output_type": "stream",
     "text": [
      "The platypus makes a strange sound.\n",
      "The mammal gives birth to live young.\n"
     ]
    }
   ],
   "source": [
    "# ANSWER_3\n",
    "\n",
    "\"\"\"Multiple inheritance is a feature in object-oriented programming where a class can inherit attributes and methods \n",
    "from multiple parent classes.\"\"\"\n",
    "class Animal:\n",
    "    def make_sound(self):\n",
    "        print(\"The animal makes a sound.\")\n",
    "\n",
    "class Mammal:\n",
    "    def give_birth(self):\n",
    "        print(\"The mammal gives birth to live young.\")\n",
    "\n",
    "class Platypus(Animal, Mammal):\n",
    "    def make_sound(self):\n",
    "        print(\"The platypus makes a strange sound.\")\n",
    "\n",
    "platypus = Platypus()\n",
    "platypus.make_sound()\n",
    "platypus.give_birth()\n"
   ]
  },
  {
   "cell_type": "code",
   "execution_count": 1,
   "id": "781723ca-bf46-4bab-ab9e-8d122b3e1c9f",
   "metadata": {},
   "outputs": [
    {
     "name": "stdout",
     "output_type": "stream",
     "text": [
      "Alice\n",
      "Error: Name cannot be empty\n",
      "Bob\n"
     ]
    }
   ],
   "source": [
    "# ANSWER_5\n",
    "\n",
    "\"\"\"In Python, getters and setters are methods that allow us to control access to the attributes of a class. \n",
    "Getters and setters are useful when we want to provide a layer of abstraction over the attributes of a class, \n",
    "so that we can enforce certain constraints or perform additional processing before allowing access to the attributes.\n",
    "\n",
    "Here is an example of a Python class that defines a Person with a name attribute, and getter and setter methods for the name attribute:\"\"\"\n",
    "\n",
    "class Person:\n",
    "    def __init__(self, name):\n",
    "        self._name = name\n",
    "        \n",
    "    def get_name(self):\n",
    "        return self._name\n",
    "    \n",
    "    def set_name(self, name):\n",
    "        if not name:\n",
    "            print(\"Error: Name cannot be empty\")\n",
    "        else:\n",
    "            self._name = name\n",
    "\n",
    "            \n",
    "person = Person(\"Alice\")\n",
    "print(person.get_name()) # Output: Alice\n",
    "\n",
    "person.set_name(\"\") # Output: Error: Name cannot be empty\n",
    "\n",
    "person.set_name(\"Bob\")\n",
    "print(person.get_name()) # Output: Bob\n"
   ]
  },
  {
   "cell_type": "code",
   "execution_count": null,
   "id": "f60d3170-25fa-4f40-a000-b957a025c1d1",
   "metadata": {},
   "outputs": [],
   "source": [
    "# ANSWER_6"
   ]
  }
 ],
 "metadata": {
  "kernelspec": {
   "display_name": "Python 3 (ipykernel)",
   "language": "python",
   "name": "python3"
  },
  "language_info": {
   "codemirror_mode": {
    "name": "ipython",
    "version": 3
   },
   "file_extension": ".py",
   "mimetype": "text/x-python",
   "name": "python",
   "nbconvert_exporter": "python",
   "pygments_lexer": "ipython3",
   "version": "3.10.6"
  }
 },
 "nbformat": 4,
 "nbformat_minor": 5
}
