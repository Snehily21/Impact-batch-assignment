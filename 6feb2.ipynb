{
 "cells": [
  {
   "cell_type": "code",
   "execution_count": 13,
   "id": "9d442f8c-3cad-4526-a2a6-b3213a4953f7",
   "metadata": {},
   "outputs": [
    {
     "name": "stdout",
     "output_type": "stream",
     "text": [
      "4134711838987085478833841242112000\n"
     ]
    },
    {
     "data": {
      "text/plain": [
       "{1, 2, 3}"
      ]
     },
     "execution_count": 13,
     "metadata": {},
     "output_type": "execute_result"
    }
   ],
   "source": [
    "list1 = [1,2,3,4, [44,55,66, True], False, (34,56,78,89,34), {1,2,3,3,2,1}, {1:34, \"key2\": [55, 67, 78, 89], 4: (45,\n",
    "22, 61, 34)}, [56, 'data science'], 'Machine Learning']\n",
    "def intproduct(list1):\n",
    "    l=[]\n",
    "    for i in list1:\n",
    "        if type(i)==int:\n",
    "            l.append(i)\n",
    "        elif type(i)==list:\n",
    "            for x in i:\n",
    "                if type(x)==int:\n",
    "                    l.append(x)\n",
    "        elif type(i)==tuple:\n",
    "            for b in i:\n",
    "                if type(b)==int:\n",
    "                    l.append(b)\n",
    "        elif type(i)==dict:\n",
    "            for values in i.values():\n",
    "                if type(values)==int:\n",
    "                    l.append(values)\n",
    "                elif type(values)==list:\n",
    "                    l.extend(values)\n",
    "                elif type(values)==tuple:\n",
    "                    l.extend(values)\n",
    "            for keys in i.keys():\n",
    "                if type(keys)==int:\n",
    "                    l.append(keys)\n",
    "        elif type(i)==set:\n",
    "            for y in i:\n",
    "                if type(y)==int:\n",
    "                    l.append(y)\n",
    "    return l\n",
    "product=1\n",
    "for i in intproduct(list1):\n",
    "    product*=i\n",
    "print(product)\n",
    "list1[7]\n",
    "    \n"
   ]
  },
  {
   "cell_type": "code",
   "execution_count": null,
   "id": "485ff0a4-f4f3-4286-9432-de20411aa11d",
   "metadata": {},
   "outputs": [],
   "source": []
  }
 ],
 "metadata": {
  "kernelspec": {
   "display_name": "Python 3 (ipykernel)",
   "language": "python",
   "name": "python3"
  },
  "language_info": {
   "codemirror_mode": {
    "name": "ipython",
    "version": 3
   },
   "file_extension": ".py",
   "mimetype": "text/x-python",
   "name": "python",
   "nbconvert_exporter": "python",
   "pygments_lexer": "ipython3",
   "version": "3.10.6"
  }
 },
 "nbformat": 4,
 "nbformat_minor": 5
}
