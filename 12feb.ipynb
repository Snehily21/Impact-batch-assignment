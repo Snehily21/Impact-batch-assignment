{
 "cells": [
  {
   "cell_type": "code",
   "execution_count": null,
   "id": "7e626c38-70f5-494e-a321-5bfd14ff4dca",
   "metadata": {},
   "outputs": [],
   "source": [
    "# ANSWER_1\n",
    "\"\"\"In Python, an exception is an error that occurs during the execution of a program.\n",
    "When a Python script encounters an error or exception, the script stops running, and the error message is displayed. \n",
    "The error message provides information about the type of error that occurred, as well as where in the code the error occurred.\n",
    "\n",
    "There are many types of exceptions in Python, such as NameError, TypeError, ZeroDivisionError, IndexError, ValueError, and so on. \n",
    "Each type of exception is related to a specific type of error that can occur in a program.\n",
    "\n",
    "The main difference between exceptions and syntax errors in Python is that exceptions occur at runtime while syntax errors occur \n",
    "before the code is executed. Syntax errors occur when the interpreter cannot understand the code because of incorrect syntax,\n",
    "such as missing parentheses or using the wrong keyword. Exceptions, on the other hand, occur when the interpreter understands the \n",
    "code but encounters an error during execution, such as trying to divide by zero or accessing an index that does not exist in a list.\n",
    "\n",
    "In summary, exceptions are runtime errors that occur during the execution of a program, while syntax errors are errors that \n",
    "occur before the program is executed due to incorrect syntax.\"\"\""
   ]
  },
  {
   "cell_type": "code",
   "execution_count": 2,
   "id": "37652e5c-b1c2-4332-814a-298f3f923c8b",
   "metadata": {},
   "outputs": [
    {
     "ename": "ZeroDivisionError",
     "evalue": "division by zero",
     "output_type": "error",
     "traceback": [
      "\u001b[0;31m---------------------------------------------------------------------------\u001b[0m",
      "\u001b[0;31mZeroDivisionError\u001b[0m                         Traceback (most recent call last)",
      "Cell \u001b[0;32mIn [2], line 9\u001b[0m\n\u001b[1;32m      7\u001b[0m a\u001b[38;5;241m=\u001b[39m\u001b[38;5;241m10\u001b[39m \n\u001b[1;32m      8\u001b[0m b\u001b[38;5;241m=\u001b[39m\u001b[38;5;241m0\u001b[39m\n\u001b[0;32m----> 9\u001b[0m \u001b[43ma\u001b[49m\u001b[38;5;241;43m/\u001b[39;49m\u001b[43mb\u001b[49m\n",
      "\u001b[0;31mZeroDivisionError\u001b[0m: division by zero"
     ]
    }
   ],
   "source": [
    "# ANSWER_2\n",
    "\n",
    "\"\"\"When an exception is not handled in Python, the program will terminate with an error message. \n",
    "The error message will provide information about the type of exception that occurred and the location in the code where the exception occurred. \n",
    "In some cases, the error message may be accompanied by a traceback that shows the sequence of function calls that led to the exception.\n",
    "Example is\"\"\"\n",
    "a=10 \n",
    "b=0\n",
    "a/b"
   ]
  },
  {
   "cell_type": "code",
   "execution_count": 4,
   "id": "133999e2-9d97-4e03-bae9-59674db18a88",
   "metadata": {},
   "outputs": [
    {
     "name": "stdout",
     "output_type": "stream",
     "text": [
      "division by zero\n"
     ]
    }
   ],
   "source": [
    "# ANSWER_3\n",
    "\"\"\"In Python, the try-except statement is used to handle exceptions. The try block contains the code that may raise an exception,\n",
    "and the except block contains the code to handle the exception if it occurs.\n",
    "Here is an example of how to use the try-except statement to handle an exception:\"\"\"\n",
    "try: \n",
    "    a=10\n",
    "    b=0\n",
    "    a/b\n",
    "except ZeroDivisionError as e:\n",
    "    print(e)\n",
    "\n"
   ]
  },
  {
   "cell_type": "code",
   "execution_count": 9,
   "id": "6d47052a-299f-43ca-8073-9c3d3c3fac6b",
   "metadata": {},
   "outputs": [
    {
     "name": "stdout",
     "output_type": "stream",
     "text": [
      "5.0\n",
      "5.0\n",
      "this is finally\n"
     ]
    },
    {
     "ename": "ZeroDivisionError",
     "evalue": "Error: Division by 0",
     "output_type": "error",
     "traceback": [
      "\u001b[0;31m---------------------------------------------------------------------------\u001b[0m",
      "\u001b[0;31mZeroDivisionError\u001b[0m                         Traceback (most recent call last)",
      "Cell \u001b[0;32mIn [9], line 50\u001b[0m\n\u001b[1;32m     47\u001b[0m     \u001b[38;5;28;01melse\u001b[39;00m:\n\u001b[1;32m     48\u001b[0m         \u001b[38;5;28mprint\u001b[39m(a\u001b[38;5;241m/\u001b[39mb)\n\u001b[0;32m---> 50\u001b[0m \u001b[43mtest\u001b[49m\u001b[43m(\u001b[49m\u001b[38;5;241;43m10\u001b[39;49m\u001b[43m,\u001b[49m\u001b[38;5;241;43m0\u001b[39;49m\u001b[43m)\u001b[49m\n",
      "Cell \u001b[0;32mIn [9], line 46\u001b[0m, in \u001b[0;36mtest\u001b[0;34m(a, b)\u001b[0m\n\u001b[1;32m     44\u001b[0m \u001b[38;5;28;01mdef\u001b[39;00m \u001b[38;5;21mtest\u001b[39m(a,b):\n\u001b[1;32m     45\u001b[0m     \u001b[38;5;28;01mif\u001b[39;00m b\u001b[38;5;241m==\u001b[39m\u001b[38;5;241m0\u001b[39m:\n\u001b[0;32m---> 46\u001b[0m         \u001b[38;5;28;01mraise\u001b[39;00m \u001b[38;5;167;01mZeroDivisionError\u001b[39;00m(\u001b[38;5;124m\"\u001b[39m\u001b[38;5;124mError: Division by 0\u001b[39m\u001b[38;5;124m\"\u001b[39m)\n\u001b[1;32m     47\u001b[0m     \u001b[38;5;28;01melse\u001b[39;00m:\n\u001b[1;32m     48\u001b[0m         \u001b[38;5;28mprint\u001b[39m(a\u001b[38;5;241m/\u001b[39mb)\n",
      "\u001b[0;31mZeroDivisionError\u001b[0m: Error: Division by 0"
     ]
    }
   ],
   "source": [
    "# ANSWER_4\n",
    "\n",
    "\n",
    "# try and else\n",
    "\"\"\"In Python, the try-else statement is a control flow statement that allows you to specify a block of code to execute if no exceptions \n",
    "are raised in the try block. \n",
    "The else block is executed immediately after the try block, but only if no exceptions were raised.\n",
    "\n",
    "Here is an example of how to use the try-else statement in Python:\"\"\"\n",
    "try: \n",
    "    a=10\n",
    "    b=2\n",
    "    answer=a/b\n",
    "except ZeroDivisionError as e:\n",
    "    print(e)\n",
    "else:\n",
    "    print(answer)\n",
    "    \n",
    "# finally\n",
    "\n",
    "\"\"\"In Python, the finally statement is a control flow statement that allows you to specify a block of code that will be executed\n",
    "regardless of whether an exception was raised or not. The code in the finally block will always be executed,whether an exception \n",
    "was raised or not, and even if you use a return statement to exit the function.\n",
    "\n",
    "Here is an example of how to use the try-finally statement in Python:\"\"\"\n",
    "try: \n",
    "    a=10\n",
    "    b=2\n",
    "    answer=a/b\n",
    "except ZeroDivisionError as e:\n",
    "    print(e)\n",
    "else:\n",
    "    print(answer)\n",
    "finally:\n",
    "    print(\"this is finally\")\n",
    "\n",
    "    \n",
    "# raise\n",
    "\n",
    "\"\"\"In Python, the raise keyword is used to raise an exception explicitly.\n",
    "When you raise an exception, you are indicating that an error has occurred in your code and you want to handle it in a specific way.\n",
    "\n",
    "Here is an example of how to use the raise keyword in Python:\"\"\"\n",
    "def test(a,b):\n",
    "    if b==0:\n",
    "        raise ZeroDivisionError(\"Error: Division by 0\")\n",
    "    else:\n",
    "        print(a/b)\n",
    "\n",
    "test(10,0)\n",
    "    \n",
    "\n",
    "\n",
    "\n"
   ]
  },
  {
   "cell_type": "code",
   "execution_count": 34,
   "id": "444bda26-51e5-4f8b-868a-2bf973f850da",
   "metadata": {},
   "outputs": [
    {
     "ename": "TypeError",
     "evalue": "catching classes that do not inherit from BaseException is not allowed",
     "output_type": "error",
     "traceback": [
      "\u001b[0;31m---------------------------------------------------------------------------\u001b[0m",
      "\u001b[0;31mTypeError\u001b[0m                                 Traceback (most recent call last)",
      "Cell \u001b[0;32mIn [34], line 26\u001b[0m\n\u001b[1;32m     25\u001b[0m \u001b[38;5;28;01mtry\u001b[39;00m:\n\u001b[0;32m---> 26\u001b[0m     \u001b[43mcalculate\u001b[49m\u001b[43m(\u001b[49m\u001b[43mnumber\u001b[49m\u001b[43m)\u001b[49m\n\u001b[1;32m     27\u001b[0m \u001b[38;5;28;01mexcept\u001b[39;00m NegativeNumberFound \u001b[38;5;28;01mas\u001b[39;00m e:\n",
      "Cell \u001b[0;32mIn [34], line 20\u001b[0m, in \u001b[0;36mcalculate\u001b[0;34m(number)\u001b[0m\n\u001b[1;32m     19\u001b[0m \u001b[38;5;28;01mif\u001b[39;00m i\u001b[38;5;241m<\u001b[39m\u001b[38;5;241m0\u001b[39m:\n\u001b[0;32m---> 20\u001b[0m     \u001b[38;5;28;01mraise\u001b[39;00m \u001b[43mNegativeNumberFound\u001b[49m\u001b[43m(\u001b[49m\u001b[38;5;124;43m\"\u001b[39;49m\u001b[38;5;124;43mError: number is negative\u001b[39;49m\u001b[38;5;124;43m\"\u001b[39;49m\u001b[43m)\u001b[49m\n",
      "\u001b[0;31mTypeError\u001b[0m: NegativeNumberFound() takes 0 positional arguments but 1 was given",
      "\nDuring handling of the above exception, another exception occurred:\n",
      "\u001b[0;31mTypeError\u001b[0m                                 Traceback (most recent call last)",
      "Cell \u001b[0;32mIn [34], line 27\u001b[0m\n\u001b[1;32m     25\u001b[0m \u001b[38;5;28;01mtry\u001b[39;00m:\n\u001b[1;32m     26\u001b[0m     calculate(number)\n\u001b[0;32m---> 27\u001b[0m \u001b[38;5;28;01mexcept\u001b[39;00m NegativeNumberFound \u001b[38;5;28;01mas\u001b[39;00m e:\n\u001b[1;32m     28\u001b[0m     \u001b[38;5;28mprint\u001b[39m(e)\n",
      "\u001b[0;31mTypeError\u001b[0m: catching classes that do not inherit from BaseException is not allowed"
     ]
    }
   ],
   "source": [
    "# ANSWER_5\n",
    "\n",
    "\"\"\"In Python, a custom exception is a user-defined exception that extends the built-in Exception class or any of its subclasses. \n",
    "Custom exceptions are useful when you want to define your own specific type of exception that is not covered by the built-in exceptions.\n",
    "\n",
    "Custom exceptions are needed when you want to raise an exception in a specific situation that is not covered by the existing built-in exceptions. \n",
    "For example, you might want to raise a custom exception when a user tries to perform an action \n",
    "that is not allowed or when a required input value is missing. By creating a custom exception, you can provide more meaningful \n",
    "feedback to the user about what went wrong and how to fix it.\n",
    "\n",
    "Here is an example of how to create and use a custom exception in Python:\"\"\"\n",
    "\n",
    "def NegativeNumberFound():\n",
    "    pass\n",
    "\n",
    "def calculate(number):\n",
    "    sum=0\n",
    "    for i in number:\n",
    "        if i<0:\n",
    "            raise NegativeNumberFound(\"Error: number is negative\")\n",
    "        \n",
    "            \n",
    "            \n",
    "number=[1,2,3,-43]\n",
    "try:\n",
    "    calculate(number)\n",
    "except NegativeNumberFound as e:\n",
    "    print(e)\n"
   ]
  },
  {
   "cell_type": "code",
   "execution_count": 29,
   "id": "7a6c2dd2-58a8-4ac1-aaf2-ce033227f46b",
   "metadata": {},
   "outputs": [
    {
     "name": "stdout",
     "output_type": "stream",
     "text": [
      "Error: something went wrong\n"
     ]
    }
   ],
   "source": [
    "# ANSWER_6\n",
    "\n",
    "# Define a custom exception class\n",
    "class CustomException(Exception):\n",
    "    pass\n",
    "\n",
    "# A simple function that raises the custom exception\n",
    "def raise_exception():\n",
    "    raise CustomException(\"Error: something went wrong\")\n",
    "\n",
    "# Call the function and catch the custom exception\n",
    "try:\n",
    "    raise_exception()\n",
    "except CustomException as e:\n",
    "    print(e)\n"
   ]
  },
  {
   "cell_type": "code",
   "execution_count": null,
   "id": "36871699-b5b1-419c-9810-808b6799acec",
   "metadata": {},
   "outputs": [],
   "source": []
  },
  {
   "cell_type": "code",
   "execution_count": null,
   "id": "b1bd1212-20ff-480a-acab-3ec816b95bfc",
   "metadata": {},
   "outputs": [],
   "source": []
  }
 ],
 "metadata": {
  "kernelspec": {
   "display_name": "Python 3 (ipykernel)",
   "language": "python",
   "name": "python3"
  },
  "language_info": {
   "codemirror_mode": {
    "name": "ipython",
    "version": 3
   },
   "file_extension": ".py",
   "mimetype": "text/x-python",
   "name": "python",
   "nbconvert_exporter": "python",
   "pygments_lexer": "ipython3",
   "version": "3.10.6"
  }
 },
 "nbformat": 4,
 "nbformat_minor": 5
}
