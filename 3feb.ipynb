{
 "cells": [
  {
   "cell_type": "code",
   "execution_count": null,
   "id": "7013313a-d706-4dd1-bb76-5f2a7aabe080",
   "metadata": {},
   "outputs": [],
   "source": [
    "\n",
    "# Answer_1\n",
    "\n",
    "\"yes keyword is use to create the fuction\"\n",
    "\n",
    "n=25\n",
    "\n",
    "def oddnumber(n):\n",
    "    l2=[]\n",
    "    for i in range(1,26):\n",
    "        if i%2!=2:\n",
    "            l2.append(i)\n",
    "    return l2 \n",
    "\n",
    "\n",
    "print(oddnumber(n))\n",
    "            \n",
    "        "
   ]
  },
  {
   "cell_type": "code",
   "execution_count": 83,
   "id": "d7f8d908-b1ec-419b-b7d0-2652410cbc7e",
   "metadata": {},
   "outputs": [
    {
     "name": "stdout",
     "output_type": "stream",
     "text": [
      "first_name: John\n",
      "last_name: Doe\n",
      "age: 32\n"
     ]
    }
   ],
   "source": [
    "\"\"\" *args and **kwargs is used in some functions? Create a function each for *args and **kwargs\n",
    "to demonstrate their use.\"\"\"\n",
    "\n",
    "\n",
    "# Answer_2\n",
    "\"\"\"\n",
    "args and **kwargs are special syntax in Python used to pass a variable number of arguments to a function.\n",
    "\n",
    "*args is used to send a non-keyworded variable length argument list to the function. \n",
    "It allows us to pass an arbitrary number of arguments to a function, and the function can access the arguments as a list.\"\"\"\n",
    "\n",
    "def test(*args):\n",
    "    return args\n",
    "test(5,\"sudh\",\"sdjjgh\")\n",
    "\n",
    "def print_kwargs(**kwargs):\n",
    "    for key, value in kwargs.items():\n",
    "        print(f\"{key}: {value}\")\n",
    "\n",
    "print_kwargs(first_name=\"John\", last_name=\"Doe\", age=32)"
   ]
  },
  {
   "cell_type": "code",
   "execution_count": null,
   "id": "f5109155-59f2-4c7e-8708-4682404dc7b8",
   "metadata": {},
   "outputs": [],
   "source": [
    "# Answer_3\n",
    "\"\"\"\n",
    "An iterator in Python is an object that implements two methods, __iter__() and __next__(), and can be iterated upon. \n",
    "An object is called iterable if it implements the __iter__() method.\n",
    "The __iter__() method returns the iterator object itself, and the __next__() method returns the next value in the sequence.\n",
    "When there are no more items to return, the __next__() method should raise StopIteration.\n",
    "\n",
    "To get an iterator from a list, we can use the iter() method.\n",
    "Here's an example of using the iterator to print the first five elements of the list [2, 4, 6, 8, 10, 12, 14, 16, 18, 20]:\"\"\"\n",
    "\n",
    "\n",
    "my_list = [2, 4, 6, 8, 10, 12, 14, 16, 18, 20]\n",
    "my_iter = iter(my_list)\n",
    "\n",
    "for i in range(5):\n",
    "    print(next(my_iter))\n"
   ]
  },
  {
   "cell_type": "code",
   "execution_count": 8,
   "id": "023f1429-db65-459b-bdc6-1dcdce4a6869",
   "metadata": {},
   "outputs": [
    {
     "name": "stdout",
     "output_type": "stream",
     "text": [
      "0\n",
      "1\n",
      "1\n",
      "2\n",
      "3\n",
      "5\n",
      "8\n",
      "13\n",
      "21\n",
      "34\n"
     ]
    }
   ],
   "source": [
    "# Answer_4\n",
    "\"\"\"\n",
    "A generator function in Python is a special type of function that allows you to generate a sequence of values,\n",
    "one at a time, instead of computing them all at once and storing them in memory.\n",
    "A generator function is defined like a normal function, but instead of using the return keyword,\n",
    "it uses the yield keyword to return a value and pause the function's execution. \n",
    "The function can then be resumed from where it left off the next time it's called.\n",
    "\n",
    "The yield keyword is used in a generator function to return a value and pause the function's execution.\n",
    "When a generator function is called, it returns a generator object,\n",
    "which can be used to iterate over the values produced by the generator function.\n",
    "Each time the next method is called on the generator object, \n",
    "the generator function resumes its execution and runs until it encounters another yield statement.\n",
    "\n",
    "Here's an example of a generator function in Python that generates the fibonacci sequence:\"\"\"\n",
    "\n",
    "\n",
    "def generatorexample():\n",
    "    a, b = 0, 1\n",
    "    while True:\n",
    "        yield a\n",
    "        a, b = b, a + b\n",
    "        \n",
    "        \n",
    "fibonacci=generatorexample()\n",
    "for i in range(10):\n",
    "    print(next(fibonacci))"
   ]
  },
  {
   "cell_type": "code",
   "execution_count": 21,
   "id": "b97aefb8-6012-485b-a29c-da0059f46b5a",
   "metadata": {},
   "outputs": [
    {
     "name": "stdout",
     "output_type": "stream",
     "text": [
      "2\n",
      "3\n",
      "5\n",
      "7\n",
      "11\n",
      "13\n",
      "17\n",
      "19\n",
      "23\n",
      "29\n",
      "31\n",
      "37\n",
      "41\n",
      "43\n",
      "47\n",
      "53\n",
      "59\n",
      "61\n",
      "67\n",
      "71\n"
     ]
    }
   ],
   "source": [
    "# Answer_5\n",
    "\n",
    "\n",
    "n=20\n",
    "def primegenerator():\n",
    "    for i in range(2,1000):\n",
    "        for num in range(2,i):\n",
    "            if i%num==0:\n",
    "                break\n",
    "        else:\n",
    "                yield i\n",
    "prime=primegenerator()\n",
    "for i in range (n):\n",
    "    print(next(prime))\n",
    "    "
   ]
  },
  {
   "cell_type": "code",
   "execution_count": 24,
   "id": "62cb4502-5e05-4512-9128-75fff47a6fe4",
   "metadata": {},
   "outputs": [
    {
     "name": "stdout",
     "output_type": "stream",
     "text": [
      "Enter the number till fibonnocci series want 5\n"
     ]
    },
    {
     "name": "stdout",
     "output_type": "stream",
     "text": [
      "0\n",
      "1\n",
      "1\n",
      "2\n",
      "3\n"
     ]
    }
   ],
   "source": [
    "# Answer_6\n",
    "\n",
    "n=int(input(\"Enter the number till fibonnocci series want\"))\n",
    "a,b=0,1\n",
    "i=0\n",
    "while(i<n):\n",
    "    print(a)\n",
    "    a,b=b,a+b\n",
    "    i+=1"
   ]
  },
  {
   "cell_type": "code",
   "execution_count": 30,
   "id": "6e647411-8b8d-4586-b2bd-ba74e3b3fe7f",
   "metadata": {},
   "outputs": [
    {
     "data": {
      "text/plain": [
       "[' p', ' w', ' s', ' k', ' i', ' l', ' l', ' s']"
      ]
     },
     "execution_count": 30,
     "metadata": {},
     "output_type": "execute_result"
    }
   ],
   "source": [
    "# Answer_7\n",
    "\n",
    "string=\"pwskills\"\n",
    "string2=\" \"\n",
    "[string2 + i for i in string]"
   ]
  },
  {
   "cell_type": "code",
   "execution_count": 49,
   "id": "69e06334-f3fb-4cf9-9ec6-03e8b3b28ad3",
   "metadata": {},
   "outputs": [
    {
     "name": "stdout",
     "output_type": "stream",
     "text": [
      "Enter the number 22\n"
     ]
    },
    {
     "name": "stdout",
     "output_type": "stream",
     "text": [
      "yes the number is palindrome\n"
     ]
    }
   ],
   "source": [
    "# Answer_8\n",
    "\n",
    "num=int(input(\"Enter the number\"))\n",
    "def palindrome(num):\n",
    "    originalnumber=num\n",
    "    reverse_number=0\n",
    "    while num>0:\n",
    "        last_digit = num % 10\n",
    "        reverse_number = (reverse_number*10) + last_digit\n",
    "        num=num//10\n",
    "    return originalnumber==reverse_number\n",
    "if palindrome(num):\n",
    "    print(\"yes the number is palindrome\")\n",
    "else:\n",
    "    print(\"not palindrome\")\n",
    "    \n",
    "    "
   ]
  },
  {
   "cell_type": "code",
   "execution_count": 82,
   "id": "2942b1a6-b64c-4e16-87ee-199826af0a18",
   "metadata": {},
   "outputs": [
    {
     "name": "stdout",
     "output_type": "stream",
     "text": [
      "[1, 3, 5, 7, 9, 11, 13, 15, 17, 19, 21, 23, 25, 27, 29, 31, 33, 35, 37, 39, 41, 43, 45, 47, 49, 51, 53, 55, 57, 59, 61, 63, 65, 67, 69, 71, 73, 75, 77, 79, 81, 83, 85, 87, 89, 91, 93, 95, 97, 99]\n"
     ]
    }
   ],
   "source": [
    "# Answer_9\n",
    "\n",
    "l1=[]\n",
    "l2=[]\n",
    "l1=[i for i in range(1,101)  ] \n",
    "# [l2.append(i) for i in l1 ]\n",
    "l2=[ i   for i in l1 if i%2!=0]\n",
    "print(l2)\n",
    "\n"
   ]
  },
  {
   "cell_type": "code",
   "execution_count": null,
   "id": "d9ad6307-a635-4e5f-9f30-20d1301d5e2c",
   "metadata": {},
   "outputs": [],
   "source": []
  }
 ],
 "metadata": {
  "kernelspec": {
   "display_name": "Python 3 (ipykernel)",
   "language": "python",
   "name": "python3"
  },
  "language_info": {
   "codemirror_mode": {
    "name": "ipython",
    "version": 3
   },
   "file_extension": ".py",
   "mimetype": "text/x-python",
   "name": "python",
   "nbconvert_exporter": "python",
   "pygments_lexer": "ipython3",
   "version": "3.10.6"
  }
 },
 "nbformat": 4,
 "nbformat_minor": 5
}
