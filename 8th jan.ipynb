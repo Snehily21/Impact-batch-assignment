{
 "cells": [
  {
   "cell_type": "code",
   "execution_count": null,
   "id": "3ba2a9dc-6e42-42a7-92b8-7daee162c8a3",
   "metadata": {},
   "outputs": [],
   "source": [
    "#Answer 1-\n",
    "\"\"\"Abstraction is one of the fundamental concepts in object-oriented programming (OOP). It refers to the process of hiding the \n",
    "internal details of an object and exposing only the necessary information to the outside world. The goal of abstraction is to reduce \n",
    "complexity and improve code reusability by creating objects that can be treated as a single entity, rather than a collection of individual parts.\n",
    "\n",
    "Abstraction can be achieved through the use of abstract classes and interfaces. An abstract class is a class that contains one or more abstract methods,\n",
    "which are methods that don't have a body and must be implemented by the subclasses.An interface is a blueprint for classes that defines a set of methods \n",
    "that must be implemented by the classes that implement the interface.\n",
    "\n",
    "Example-\n",
    "\n",
    "Abstraction is like a wrapper or a black box that hides the inner workings of an object or system. You only see what's necessary to interact with it, \n",
    "while the rest is hidden away. The goal of abstraction is to make things easier to understand and use.\n",
    "\n",
    "\"\"\""
   ]
  },
  {
   "cell_type": "code",
   "execution_count": null,
   "id": "3275510d-a9e3-4283-8284-49fd3a777a62",
   "metadata": {},
   "outputs": [],
   "source": [
    "#Answer 2-\n",
    "\"\"\"\n",
    "Abstraction and encapsulation are two important concepts in object-oriented programming (OOP) and are often used together to create more robust and\n",
    "maintainable code. However, they are different concepts with different goals.\n",
    "\n",
    "Abstraction refers to the process of hiding the implementation details of an object and exposing only the necessary information to the outside world.\n",
    "The goal of abstraction is to reduce complexity and improve code reusability by creating objects that can be treated as a single entity, rather than \n",
    "a collection of individual parts.\n",
    "\n",
    "Encapsulation, on the other hand, refers to the bundling of data and methods that operate on that data within a single unit, or object. \n",
    "The goal of encapsulation is to ensure that the internal data and state of an object are protected from outside interference and can only be modified \n",
    "by the object's own methods.\n",
    "\n",
    "Example -\n",
    "\n",
    "However, the internal data of the bank account, such as the balance, is also encapsulated, meaning that it can only be accessed and modified through\n",
    "the methods provided by the bank account class. This protects the balance from being directly modified by code outside the bank account class,\n",
    "ensuring that the account remains in a consistent state.\n",
    "\n",
    "In this example, the bank account class is both abstracted and encapsulated, making it easier to use and maintain.\n",
    "\"\"\""
   ]
  },
  {
   "cell_type": "code",
   "execution_count": null,
   "id": "c5cd0a17-0cfd-495c-a32c-203c169fc122",
   "metadata": {},
   "outputs": [],
   "source": [
    "#Answer 3-\n",
    "\"\"\"\n",
    "The abc (abstract base class) module in Python is part of the standard library and provides a way to define abstract base classes in Python.\n",
    "An abstract base class is a class that cannot be instantiated on its own, but instead is intended to be subclassed. The purpose of abstract base \n",
    "classes is to provide a common interface for a set of related classes and to enforce certain constraints on the implementation of these classes.\n",
    "\n",
    "The abc module is used when you want to define an interface for a set of related classes and ensure that all of the classes that implement \n",
    "that interface have certain properties or methods in common. This allows you to write code that is more flexible and easier to maintain by\n",
    "promoting the separation of concerns and encouraging the use of composition over inheritance.\n",
    "\n",
    "\"\"\""
   ]
  },
  {
   "cell_type": "code",
   "execution_count": null,
   "id": "e0040b59-c6fb-4a70-ae90-a250cd928834",
   "metadata": {},
   "outputs": [],
   "source": [
    "#Answer 4-\n",
    "\"\"\"\n",
    "Data abstraction is the process of hiding the implementation details of data and exposing only the necessary information to the outside world. \n",
    "The goal of data abstraction is to reduce complexity and improve code reusability by creating data structures that can be treated as a single entity\n",
    ", rather than a collection of individual parts.\n",
    "\n",
    "In programming, data abstraction is achieved through the use of classes, objects, and access control mechanisms. The following are some of the ways \n",
    "to achieve data abstraction in programming:\n",
    "\n",
    "Encapsulation: Encapsulation is the practice of bundling data and the methods that operate on that data within a single unit, or object. \n",
    "By encapsulating data within an object, you can ensure that the internal data and state of the object are protected from outside interference and\n",
    "can only be modified by the object's own methods.\n",
    "\n",
    "Abstraction: Abstraction is the process of hiding the implementation details of an object and exposing only the necessary information to \n",
    "the outside world. By using abstraction, you can create objects that can be treated as a single entity, rather than a collection of individual parts.\n",
    "\"\"\""
   ]
  },
  {
   "cell_type": "code",
   "execution_count": null,
   "id": "3c65b53d-4877-47ea-893d-dda2f0626cdb",
   "metadata": {},
   "outputs": [],
   "source": [
    "#Answer 5-\n",
    "\"\"\"\n",
    "\n",
    "No, you cannot create an instance of an abstract class in Python. An abstract class is intended to be a base class that provides a common interface \n",
    "for a set of related classes. The idea behind an abstract class is that it defines a common structure or interface that must be shared by all\n",
    "concrete subclasses.\n",
    "\n",
    "An abstract class cannot be instantiated on its own because it may have abstract methods or properties that have no implementation. \n",
    "In order to use an abstract class, you must create a concrete subclass that implements all of the abstract methods and properties defined by \n",
    "the abstract class. The concrete subclass can then be instantiated, and it will have the common structure and behavior defined by the abstract class.\n",
    "\n",
    "\"\"\""
   ]
  }
 ],
 "metadata": {
  "kernelspec": {
   "display_name": "Python 3 (ipykernel)",
   "language": "python",
   "name": "python3"
  },
  "language_info": {
   "codemirror_mode": {
    "name": "ipython",
    "version": 3
   },
   "file_extension": ".py",
   "mimetype": "text/x-python",
   "name": "python",
   "nbconvert_exporter": "python",
   "pygments_lexer": "ipython3",
   "version": "3.10.6"
  }
 },
 "nbformat": 4,
 "nbformat_minor": 5
}
