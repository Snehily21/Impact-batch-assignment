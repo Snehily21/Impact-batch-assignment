{
 "cells": [
  {
   "cell_type": "code",
   "execution_count": 1,
   "id": "1ab4a22f-62dc-44eb-a4ef-0b52c1e3e165",
   "metadata": {},
   "outputs": [],
   "source": [
    "#Answer 1-\n",
    "list1 = [1,2,3,4, [44,55,66, True], False, (34,56,78,89,34), {1,2,3,3,2,1}, {1:34, \"key2\": [55, 67, 78, 89], 4: (45,\n",
    "22, 61, 34)}, [56, 'data science'], 'Machine Learning']\n",
    "#Function For Product All Numbers in List1\n",
    "def fun(list1):\n",
    "    l=[]\n",
    "    for i in list1:\n",
    "        if type(i)==int:\n",
    "            l.append(i)\n",
    "        elif type(i)==list:\n",
    "            for x in i:\n",
    "                if type(x)==int:\n",
    "                    l.append(x)\n",
    "        elif type(i)==tuple:\n",
    "            for b in i:\n",
    "                if type(b)==int:\n",
    "                    l.append(b)\n",
    "        elif type(i)==dict:\n",
    "            for values in i.values():\n",
    "                if type(values)==int:\n",
    "                    l.append(values)\n",
    "                elif type(values)==list:\n",
    "                    l.extend(values)\n",
    "                elif type(values)==tuple:\n",
    "                    l.extend(values)\n",
    "            for keys in i.keys():\n",
    "                if type(keys)==int:\n",
    "                    l.append(keys)\n",
    "        elif type(i)==set:\n",
    "            for y in i:\n",
    "                if type(y)==int:\n",
    "                    l.append(y)\n",
    "        \n",
    "    return l"
   ]
  },
  {
   "cell_type": "code",
   "execution_count": 2,
   "id": "4cebbcb7-5e4a-4f0e-8860-3551b314e0b1",
   "metadata": {},
   "outputs": [
    {
     "data": {
      "text/plain": [
       "4134711838987085478833841242112000"
      ]
     },
     "execution_count": 2,
     "metadata": {},
     "output_type": "execute_result"
    }
   ],
   "source": [
    "#Used Reduce Method\n",
    "from functools import reduce\n",
    "reduce(lambda x,y:x*y,fun(list1))"
   ]
  },
  {
   "cell_type": "code",
   "execution_count": 3,
   "id": "729e5e9c-c8d6-4159-9240-ba24e71ab963",
   "metadata": {},
   "outputs": [
    {
     "data": {
      "text/plain": [
       "' r$dzmg$gl$yvxlnv$z$wzgz$hxrvmgrhg'"
      ]
     },
     "execution_count": 3,
     "metadata": {},
     "output_type": "execute_result"
    }
   ],
   "source": [
    "#Answer 2-\n",
    "\n",
    "sentence=\"I want to become a Data Scientist\"\n",
    "sentence=sentence.lower()\n",
    "def encrypt(sentence):\n",
    "    encryption=\" \"\n",
    "    mapping = {\n",
    "            'a': 'z', 'b': 'y', 'c': 'x', 'd': 'w', 'e': 'v',\n",
    "            'f': 'u', 'g': 't', 'h': 's', 'i': 'r', 'j': 'q',\n",
    "            'k': 'p', 'l': 'o', 'm': 'n', 'n': 'm', 'o': 'l',\n",
    "            'p': 'k', 'q': 'j', 'r': 'i', 's': 'h', 't': 'g',\n",
    "            'u': 'f', 'v': 'e', 'w': 'd', 'x': 'c', 'y': 'b',\n",
    "            'z': 'a', ' ': '$'\n",
    "    }\n",
    "    \n",
    "    for char in sentence:\n",
    "        if char in mapping:\n",
    "            encryption+=mapping[char]\n",
    "        else:\n",
    "            encryption+=char\n",
    "    return encryption\n",
    "\n",
    "encrypt(sentence)"
   ]
  },
  {
   "cell_type": "code",
   "execution_count": null,
   "id": "45b62bee-bb93-40d1-a330-f6c95528e932",
   "metadata": {},
   "outputs": [],
   "source": []
  }
 ],
 "metadata": {
  "kernelspec": {
   "display_name": "Python 3 (ipykernel)",
   "language": "python",
   "name": "python3"
  },
  "language_info": {
   "codemirror_mode": {
    "name": "ipython",
    "version": 3
   },
   "file_extension": ".py",
   "mimetype": "text/x-python",
   "name": "python",
   "nbconvert_exporter": "python",
   "pygments_lexer": "ipython3",
   "version": "3.10.6"
  }
 },
 "nbformat": 4,
 "nbformat_minor": 5
}
