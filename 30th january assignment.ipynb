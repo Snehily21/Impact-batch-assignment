{
 "cells": [
  {
   "cell_type": "code",
   "execution_count": 3,
   "id": "14625bca-c2a3-421b-89a9-3d2648903d68",
   "metadata": {},
   "outputs": [
    {
     "name": "stdin",
     "output_type": "stream",
     "text": [
      "Enter your marks 80\n"
     ]
    },
    {
     "name": "stdout",
     "output_type": "stream",
     "text": [
      "you got C grade\n"
     ]
    }
   ],
   "source": [
    "#1. Write a program to accept percentage from the user and display the grade according to the following #\n",
    "\n",
    "\n",
    "marks=int(input(\"Enter your marks\"))\n",
    "if marks>90:\n",
    "    print(\"you got A grade\")\n",
    "elif marks >80 and marks<=90:\n",
    "    print(\"you got B grade\")\n",
    "elif marks >=60 and marks<=80:\n",
    "    print(\"you got C grade\")\n",
    "else:\n",
    "    print(\"you got D grade\")"
   ]
  },
  {
   "cell_type": "code",
   "execution_count": null,
   "id": "3fd2195c-a56b-45f2-8dfc-54f946c8c3c1",
   "metadata": {},
   "outputs": [],
   "source": [
    "#Write a program to accept the cost price of a bike and display the road tax to be paid according to the#\n",
    "\n",
    "cost_price= int(input(\"Enter the cost price\"))\n",
    "if cost_price > 100000:\n",
    "    print (\"You will have pay 15% tax over the cost price to buy this particular product\")\n",
    "elif cost_price>50000 and cost_price<=100000:\n",
    "    print (\"You will have to pay 10% tax over the cost price to buy this particular product\")\n",
    "else:\n",
    "    print (\"You will have to pay 5% tax over the cost price to buy this particular product\")"
   ]
  },
  {
   "cell_type": "code",
   "execution_count": null,
   "id": "f8c7c625-696b-41b5-bb70-ef11378dc6ab",
   "metadata": {},
   "outputs": [],
   "source": [
    "\"\"\"\n",
    "City \n",
    "Delhi \n",
    "Monument \n",
    "Red Fort \n",
    "Taj Mahal \n",
    "Agra \n",
    "Jaipur \n",
    "Jal Mahal \"\"\"\n",
    "\n",
    "city_name= str(input(\"enter your city name\")).upper()\n",
    "if city_name==\"JAIPUR\":\n",
    "    print(\"your city has Jal Mahal \")\n",
    "elif city_name==\"DELHI\":\n",
    "    print(\"your city has Red Fort\")\n",
    "elif city_name ==\"AGRA\":\n",
    "    print(\"your city has one of the seven wonders which is Taj Mahal\")\n",
    "else:\n",
    "    print(\"sorry no data available for your city\")"
   ]
  },
  {
   "cell_type": "code",
   "execution_count": 13,
   "id": "1088af58-4a3f-4dff-a981-1b69f6b2e5a6",
   "metadata": {},
   "outputs": [
    {
     "name": "stdin",
     "output_type": "stream",
     "text": [
      "enter a number 4000\n"
     ]
    },
    {
     "name": "stdout",
     "output_type": "stream",
     "text": [
      "1\n",
      "2\n",
      "3\n",
      "4\n",
      "5\n",
      "6\n"
     ]
    }
   ],
   "source": [
    "# Check how many times a given number can be divided by 3 before it is less than or equal to 10. \n",
    "\n",
    "n = int(input(\"enter a number\"))\n",
    "count=0\n",
    "while(n>10):\n",
    "    n=n/3\n",
    "    count=count +1\n",
    "    print(count)\n",
    "    \n",
    "    "
   ]
  },
  {
   "cell_type": "code",
   "execution_count": null,
   "id": "4da4ed2c-5f25-4ffe-a713-120fdf11a96e",
   "metadata": {},
   "outputs": [],
   "source": [
    "\"\"\"In Python, a while loop is used to repeatedly execute a block of code as long as a specified condition is true.\n",
    "It allows for controlled execution of code that can run indefinitely or until a desired outcome is reached.\n",
    "\n",
    "Here is the basic structure of a while loop in Python:\n",
    "\n",
    "\n",
    "while condition:\n",
    "    # Code to be executed while the condition is true\n",
    "The condition is evaluated before each iteration of the loop. If the condition is true, the code inside the loop is executed.\n",
    "If the condition is false, the loop terminates and the program continues with the code after the loop.\n",
    "\n",
    "Here is an example of using a while loop in Python to print the first 10 positive integers:\n",
    "\n",
    "\n",
    "count = 1\n",
    "\n",
    "while count <= 10:\n",
    "    print(count)\n",
    "    count += 1\n",
    "In this example, the condition count <= 10 is evaluated at the start of each iteration of the loop.\n",
    "If the condition is true, the code inside the loop is executed and the value of count is incremented by 1.\n",
    "If the condition is false, the loop terminates and the program continues with the code after the loop.\n",
    "\n",
    "It's important to note that if the condition in a while loop is always true, the loop will run indefinitely, causing an infinite loop. \n",
    "To avoid this, it's important to ensure that the condition will eventually become false, otherwise the loop will never terminate.\"\"\""
   ]
  },
  {
   "cell_type": "code",
   "execution_count": 20,
   "id": "f9e8970e-989e-422d-b39e-0c9862514799",
   "metadata": {},
   "outputs": [
    {
     "name": "stdout",
     "output_type": "stream",
     "text": [
      "*  \n",
      "* *  \n",
      "* * *  \n",
      "* * * *  \n",
      "* * * * *  \n"
     ]
    }
   ],
   "source": [
    "    #  Why and When to Use while Loop in Python give a detailed description with example                                                                      \n",
    "\n",
    "n=5\n",
    "i=0\n",
    "\n",
    "\n",
    "while(i<n):\n",
    "    j=0\n",
    "    while(j<=i):\n",
    "        print(\"*\",end=\" \")\n",
    "        j=j+1\n",
    "    print(\" \")\n",
    "    i=i+1\n",
    "    \n",
    "    \n",
    "   "
   ]
  },
  {
   "cell_type": "code",
   "execution_count": 27,
   "id": "ec0b0c89-23d0-486f-b0e0-be1229fa4956",
   "metadata": {},
   "outputs": [
    {
     "name": "stdout",
     "output_type": "stream",
     "text": [
      "* * * * *  \n",
      "* * * *  \n",
      "* * *  \n",
      "* *  \n",
      "*  \n"
     ]
    }
   ],
   "source": [
    "    #Use nested while loop to print 3 different pattern. \n",
    "\n",
    "k=5\n",
    "p=0\n",
    "while(p<k):\n",
    "    m=k\n",
    "    while(m>p):\n",
    "        print(\"*\",end=\" \")\n",
    "        m=m-1\n",
    "    print(\" \")\n",
    "    p=p+1\n",
    "    \n",
    "    "
   ]
  },
  {
   "cell_type": "code",
   "execution_count": 28,
   "id": "d7770415-5da2-4365-9558-5f68aadf8937",
   "metadata": {},
   "outputs": [
    {
     "name": "stdout",
     "output_type": "stream",
     "text": [
      "*  \n",
      "* *  \n",
      "* * *  \n",
      "* * * *  \n",
      "* * * * *  \n",
      "* * * * * *  \n",
      "* * * * *  \n",
      "* * * *  \n",
      "* * *  \n",
      "* *  \n",
      "*  \n"
     ]
    }
   ],
   "source": [
    "\n",
    "     #Reverse a while loop to display numbers from 10 to 1. \n",
    "\n",
    "n=5\n",
    "i=0\n",
    "\n",
    "\n",
    "while(i<n):\n",
    "    j=0\n",
    "    while(j<=i):\n",
    "        print(\"*\",end=\" \")\n",
    "        j=j+1\n",
    "    print(\" \")\n",
    "    i=i+1\n",
    "k=6\n",
    "p=0\n",
    "while(p<k):\n",
    "    m=k\n",
    "    while(m>p):\n",
    "        print(\"*\",end=\" \")\n",
    "        m=m-1\n",
    "    print(\" \")\n",
    "    p=p+1\n",
    "    "
   ]
  },
  {
   "cell_type": "code",
   "execution_count": 34,
   "id": "a50d3337-ae64-4783-845c-9a32bbd8aa9b",
   "metadata": {},
   "outputs": [
    {
     "name": "stdout",
     "output_type": "stream",
     "text": [
      "10\n",
      "9\n",
      "8\n",
      "7\n",
      "6\n",
      "5\n",
      "4\n",
      "3\n",
      "2\n",
      "1\n"
     ]
    }
   ],
   "source": [
    "n=10\n",
    "while(n>0):\n",
    "    print(n)\n",
    "    n=n-1"
   ]
  },
  {
   "cell_type": "code",
   "execution_count": null,
   "id": "7b930f71-d14e-4539-8568-9c3e1ee2dc7b",
   "metadata": {},
   "outputs": [],
   "source": []
  }
 ],
 "metadata": {
  "kernelspec": {
   "display_name": "Python 3 (ipykernel)",
   "language": "python",
   "name": "python3"
  },
  "language_info": {
   "codemirror_mode": {
    "name": "ipython",
    "version": 3
   },
   "file_extension": ".py",
   "mimetype": "text/x-python",
   "name": "python",
   "nbconvert_exporter": "python",
   "pygments_lexer": "ipython3",
   "version": "3.10.6"
  }
 },
 "nbformat": 4,
 "nbformat_minor": 5
}
